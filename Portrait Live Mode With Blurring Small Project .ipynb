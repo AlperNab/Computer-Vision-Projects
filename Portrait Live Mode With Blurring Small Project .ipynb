{
 "cells": [
  {
   "cell_type": "markdown",
   "id": "b9a18ebf-e355-4611-bbdd-c36d4c87d8d6",
   "metadata": {},
   "source": [
    "***Portrait Live Mode With Blurring***"
   ]
  },
  {
   "cell_type": "code",
   "execution_count": 3,
   "id": "adcab36a-4049-47c8-847e-34a5fd49a28b",
   "metadata": {},
   "outputs": [],
   "source": [
    "import numpy as np \n",
    "import cv2\n",
    "import matplotlib.pyplot as plt"
   ]
  },
  {
   "cell_type": "code",
   "execution_count": 4,
   "id": "b378ca5a-859a-4451-9b83-906727db179b",
   "metadata": {},
   "outputs": [],
   "source": [
    "try :\n",
    "    cap=cv2.VideoCapture(0)\n",
    "    while 1:\n",
    "        ret,frame=cap.read()\n",
    "        if ret==True:\n",
    "            w=frame.shape[1]\n",
    "            h=frame.shape[0]\n",
    "            \n",
    "            #Drawing Three Rectangles On The whole Image, The Middle One is White Colored \n",
    "            rectangle_center=cv2.rectangle(frame,(int(w/3),0),(int(2/3*w),h),(255,255,255),-1)\n",
    "            rectangle_left=cv2.rectangle(frame,(0,0),(int(1/3*w),h),(0,0,0),-1)\n",
    "            rectangle_right=cv2.rectangle(frame,(int(2*w/3),0),(w,h),(0,0,0),-1)\n",
    "            \n",
    "            #Selecting Only The White Color\n",
    "            lower=np.uint8([[[254,255,255]]])\n",
    "            upper = np.uint8([[[255,255,255]]])\n",
    "            mask_rec=cv2.inRange(frame,lower,upper)\n",
    "            rectangles=cv2.bitwise_and(frame,frame,mask=mask_rec) \n",
    "            rectangles_inverse=cv2.bitwise_not(rectangles)\n",
    "\n",
    "            ret1,frame1=cap.read()\n",
    "            blured_frame=cv2.GaussianBlur(frame1,(91,91),100) # Applying Blur On The Whole Live Video After Reading It For The Second Time\n",
    "            \n",
    "            #Appling Masks On Normal Parts with White Rectangles And Blurred Part With Also White Rectangles\n",
    "            frame_normal=cv2.bitwise_and(rectangles,frame1)\n",
    "            frame_blurred=cv2.bitwise_and(rectangles_inverse,blured_frame)\n",
    "            \n",
    "            last_frame=cv2.bitwise_or(frame_normal,frame_blurred) # Showing Only The Desired Center Part Of The Live Video\n",
    "\n",
    "            # cv2.imshow('frame',frame)\n",
    "            # cv2.imshow('rectangles',rectangles)\n",
    "            # cv2.imshow('rectangles_inverse',rectangles_inverse)\n",
    "            # cv2.imshow('frame_normal',frame_normal)\n",
    "            # cv2.imshow('frame_blurred',frame_blurred)\n",
    "            cv2.imshow('last_frame',last_frame)\n",
    "            if cv2.waitKey(10) & 0xFF==27:\n",
    "                break\n",
    "        else:\n",
    "            print('Video has ended')\n",
    "        \n",
    "except: \n",
    "    print('Exception is raised')\n",
    "    \n",
    "cap.release()\n",
    "cv2.destroyAllWindows()"
   ]
  },
  {
   "cell_type": "code",
   "execution_count": null,
   "id": "3e9abcc1-7eb3-4617-b7ad-04bc1461e43f",
   "metadata": {},
   "outputs": [],
   "source": []
  }
 ],
 "metadata": {
  "kernelspec": {
   "display_name": "Python 3 (ipykernel)",
   "language": "python",
   "name": "python3"
  },
  "language_info": {
   "codemirror_mode": {
    "name": "ipython",
    "version": 3
   },
   "file_extension": ".py",
   "mimetype": "text/x-python",
   "name": "python",
   "nbconvert_exporter": "python",
   "pygments_lexer": "ipython3",
   "version": "3.9.7"
  }
 },
 "nbformat": 4,
 "nbformat_minor": 5
}
