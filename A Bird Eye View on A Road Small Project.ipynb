{
 "cells": [
  {
   "cell_type": "markdown",
   "id": "93c039a2-ea2b-4421-9e02-3f87e0121f42",
   "metadata": {},
   "source": [
    "***A Bird Eye View on A Road***"
   ]
  },
  {
   "cell_type": "code",
   "execution_count": 1,
   "id": "1a829614-8f43-4a71-ac33-81cd89907a5d",
   "metadata": {},
   "outputs": [],
   "source": [
    "import numpy as np \n",
    "import cv2\n",
    "import matplotlib.pyplot as plt\n",
    "\n",
    "cap=cv2.VideoCapture('F:/New Courses/Computer Vision Electro-Pi/Road.mp4')\n",
    "\n",
    "try:\n",
    "    while 1:\n",
    "        ret, frame= cap.read()\n",
    "        if ret==True:        \n",
    "\n",
    "            pts1 = np.float32([[530,580],[800,580],[400,650],[1100,650]])\n",
    "            pts2 = np.float32([[0,0],[500,0],[0,500],[500,500]])\n",
    "            M = cv2.getPerspectiveTransform(pts1,pts2)\n",
    "            dst = cv2.warpPerspective(frame,M,(500,500))\n",
    "            cv2.imshow('frame',frame)\n",
    "            cv2.imshow('dst',dst)\n",
    "\n",
    "            if cv2.waitKey(10) & 0xFF==ord('g'):\n",
    "                cv2.imwrite('frame.jpg',frame)\n",
    "            if cv2.waitKey(10) & 0xFF==27:\n",
    "                break\n",
    "\n",
    "        else:\n",
    "            print('Video has ended')\n",
    "        \n",
    "except: \n",
    "    print('Exception is raised')\n",
    "        \n",
    "cap.release()\n",
    "cv2.destroyAllWindows()"
   ]
  }
 ],
 "metadata": {
  "kernelspec": {
   "display_name": "Python 3 (ipykernel)",
   "language": "python",
   "name": "python3"
  },
  "language_info": {
   "codemirror_mode": {
    "name": "ipython",
    "version": 3
   },
   "file_extension": ".py",
   "mimetype": "text/x-python",
   "name": "python",
   "nbconvert_exporter": "python",
   "pygments_lexer": "ipython3",
   "version": "3.9.7"
  }
 },
 "nbformat": 4,
 "nbformat_minor": 5
}
