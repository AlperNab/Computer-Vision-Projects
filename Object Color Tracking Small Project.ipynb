{
 "cells": [
  {
   "cell_type": "markdown",
   "id": "84307f03-3c84-4cd0-910b-f47d3a6a9e67",
   "metadata": {},
   "source": [
    "***Object Color Tracking***"
   ]
  },
  {
   "cell_type": "code",
   "execution_count": null,
   "id": "def072eb-d46d-4151-a4dc-e0a823a256fb",
   "metadata": {},
   "outputs": [],
   "source": [
    "import numpy as np \n",
    "import cv2\n",
    "import matplotlib.pyplot as plt"
   ]
  },
  {
   "cell_type": "code",
   "execution_count": 2,
   "id": "be643366-55ee-44b3-8262-340e2b532de4",
   "metadata": {},
   "outputs": [],
   "source": [
    "try :\n",
    "    def object_tracker():\n",
    "        color_object=input(' please enter color + object name : ')\n",
    "        color = color_object.split()[0]\n",
    "        if color =='blue':\n",
    "            bgr= np.uint8([[[255,0,0]]])               \n",
    "        elif color =='red':\n",
    "            bgr= np.uint8([[[0,0,255]]])         \n",
    "        elif color =='green':\n",
    "            bgr= np.uint8([[[0,255,0]]])   \n",
    "        else :\n",
    "            print('please enter color [red,green,blue]')\n",
    "        hue=cv2.cvtColor(bgr,cv2.COLOR_BGR2HSV)[0][0][0]\n",
    "        lower= np.array([hue,50,50])\n",
    "        upper= np.array([hue+30,255,255])\n",
    "        \n",
    "        cap =cv2.VideoCapture(0)\n",
    "        while(1):\n",
    "            ret,frame= cap.read()\n",
    "            hsv_frame=cv2.cvtColor(frame,cv2.COLOR_BGR2HSV)\n",
    "            mask=cv2.inRange(hsv_frame,lower,upper)\n",
    "            res=cv2.bitwise_and(frame,frame,mask =mask)\n",
    "\n",
    "            cv2.imshow('frame',frame)\n",
    "            cv2.imshow('mask',mask)\n",
    "            cv2.imshow('result',res)\n",
    "            k=cv2.waitKey(10) \n",
    "            if k ==27:\n",
    "                break\n",
    "        cap.release()\n",
    "        cv2.destroyAllWindows()\n",
    "\n",
    "except:\n",
    "    print('Error Is Raised')\n"
   ]
  },
  {
   "cell_type": "code",
   "execution_count": 3,
   "id": "8f6f77a6-7314-4137-ba1e-51a3ec71c0a6",
   "metadata": {},
   "outputs": [
    {
     "name": "stdin",
     "output_type": "stream",
     "text": [
      " please enter color + object name :  blue shirt\n"
     ]
    }
   ],
   "source": [
    "object_tracker()"
   ]
  },
  {
   "cell_type": "code",
   "execution_count": null,
   "id": "2ff4d74b-cf7e-4fa3-bb98-5fa2db88a33d",
   "metadata": {},
   "outputs": [],
   "source": []
  }
 ],
 "metadata": {
  "kernelspec": {
   "display_name": "Python 3 (ipykernel)",
   "language": "python",
   "name": "python3"
  },
  "language_info": {
   "codemirror_mode": {
    "name": "ipython",
    "version": 3
   },
   "file_extension": ".py",
   "mimetype": "text/x-python",
   "name": "python",
   "nbconvert_exporter": "python",
   "pygments_lexer": "ipython3",
   "version": "3.9.7"
  }
 },
 "nbformat": 4,
 "nbformat_minor": 5
}
